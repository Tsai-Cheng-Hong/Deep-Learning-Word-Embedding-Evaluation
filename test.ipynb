{
  "nbformat": 4,
  "nbformat_minor": 0,
  "metadata": {
    "colab": {
      "name": "Evaluate",
      "provenance": []
    },
    "kernelspec": {
      "name": "python3",
      "display_name": "Python 3"
    },
    "language_info": {
      "name": "python"
    }
  },
  "cells": [
    {
      "cell_type": "code",
      "execution_count": 1,
      "metadata": {
        "colab": {
          "base_uri": "https://localhost:8080/"
        },
        "id": "UCTPn0d4gOLf",
        "outputId": "6f51e928-75ce-46a6-f6ca-86e71ddffa8b"
      },
      "outputs": [
        {
          "output_type": "stream",
          "name": "stdout",
          "text": [
            "Mounted at /content/drive\n"
          ]
        }
      ],
      "source": [
        "from google.colab import drive\n",
        "drive.mount(\"/content/drive\")"
      ]
    },
    {
      "cell_type": "code",
      "source": [
        "import os\n",
        "path=\"/content/drive/MyDrive/評估詞向量\"\n",
        "os.chdir(path)\n",
        "os.listdir(path)"
      ],
      "metadata": {
        "colab": {
          "base_uri": "https://localhost:8080/"
        },
        "id": "LZ8-fsVJgdUO",
        "outputId": "eff5426b-52db-406c-c0e4-88f7d21a8e2f"
      },
      "execution_count": 5,
      "outputs": [
        {
          "output_type": "execute_result",
          "data": {
            "text/plain": [
              "['wiki.zh.text.model', 'test.py']"
            ]
          },
          "metadata": {},
          "execution_count": 5
        }
      ]
    },
    {
      "cell_type": "code",
      "source": [
        "!python test.py"
      ],
      "metadata": {
        "colab": {
          "base_uri": "https://localhost:8080/"
        },
        "id": "7lWl7oa-h_9H",
        "outputId": "c228c478-2414-4d47-cc9d-81cd5c666030"
      },
      "execution_count": 10,
      "outputs": [
        {
          "output_type": "stream",
          "name": "stdout",
          "text": [
            "Load Model...\n",
            "2022-05-18 14:28:20,834 : INFO : loading Word2Vec object from wiki.zh.text.model\n",
            "2022-05-18 14:28:24,016 : INFO : loading wv recursively from wiki.zh.text.model.wv.* with mmap=None\n",
            "2022-05-18 14:28:24,016 : INFO : loading vectors from wiki.zh.text.model.wv.vectors.npy with mmap=None\n",
            "tcmalloc: large alloc 1838710784 bytes == 0xa3e2000 @  0x7fefd3de31e7 0x7fefd06000ce 0x7fefd0657e57 0x7fefd0658a6f 0x7fefd06fec5d 0x593835 0x548c51 0x5127f1 0x549576 0x593fce 0x548ae9 0x5127f1 0x549576 0x593fce 0x548ae9 0x5127f1 0x593dd7 0x511e2c 0x593dd7 0x511e2c 0x549576 0x4bcb19 0x59c019 0x595ef6 0x5134a6 0x549e0e 0x4bcb19 0x59c019 0x595ef6 0x5134a6 0x549e0e\n",
            "2022-05-18 14:28:32,647 : INFO : setting ignored attribute vectors_norm to None\n",
            "2022-05-18 14:28:32,647 : INFO : loading vocabulary recursively from wiki.zh.text.model.vocabulary.* with mmap=None\n",
            "2022-05-18 14:28:32,647 : INFO : loading trainables recursively from wiki.zh.text.model.trainables.* with mmap=None\n",
            "2022-05-18 14:28:32,647 : INFO : loading syn1neg from wiki.zh.text.model.trainables.syn1neg.npy with mmap=None\n",
            "tcmalloc: large alloc 1838710784 bytes == 0x77d6a000 @  0x7fefd3de31e7 0x7fefd06000ce 0x7fefd0657e57 0x7fefd0658a6f 0x7fefd06fec5d 0x593835 0x548c51 0x5127f1 0x549576 0x593fce 0x548ae9 0x5127f1 0x549576 0x593fce 0x548ae9 0x5127f1 0x593dd7 0x511e2c 0x593dd7 0x511e2c 0x549576 0x4bcb19 0x59c019 0x595ef6 0x5134a6 0x549e0e 0x4bcb19 0x59c019 0x595ef6 0x5134a6 0x549e0e\n",
            "2022-05-18 14:28:42,869 : INFO : setting ignored attribute cum_table to None\n",
            "2022-05-18 14:28:42,870 : INFO : loaded wiki.zh.text.model\n",
            "Load OK\n",
            "mode2vec OK\n",
            "Load Vector...\n",
            "Load OK\n",
            "2022-05-18 14:28:47,080 : INFO : Pearson correlation coefficient against trd-wordsim-240.txt: 0.5249\n",
            "2022-05-18 14:28:47,080 : INFO : Spearman rank-order correlation coefficient against trd-wordsim-240.txt: 0.5038\n",
            "2022-05-18 14:28:47,080 : INFO : Pairs with unknown words ratio: 14.2%\n",
            "ws240評估完成\n",
            "2022-05-18 14:28:48,173 : INFO : Pearson correlation coefficient against trd-wordsim-297.txt: 0.5955\n",
            "2022-05-18 14:28:48,173 : INFO : Spearman rank-order correlation coefficient against trd-wordsim-297.txt: 0.5625\n",
            "2022-05-18 14:28:48,173 : INFO : Pairs with unknown words ratio: 17.2%\n",
            "ws296評估完成\n",
            "2022-05-18 14:28:48,784 : INFO : Pearson correlation coefficient against zh_tw_ws353.txt: 0.5745\n",
            "2022-05-18 14:28:48,784 : INFO : Spearman rank-order correlation coefficient against zh_tw_ws353.txt: 0.6020\n",
            "2022-05-18 14:28:48,784 : INFO : Pairs with unknown words ratio: 13.0%\n",
            "ws353評估完成\n",
            "2022-05-18 14:28:49,823 : INFO : Pearson correlation coefficient against zh_tw_ws353_relatedness.txt: 0.5082\n",
            "2022-05-18 14:28:49,823 : INFO : Spearman rank-order correlation coefficient against zh_tw_ws353_relatedness.txt: 0.5192\n",
            "2022-05-18 14:28:49,823 : INFO : Pairs with unknown words ratio: 11.1%\n",
            "ws353-relatedness 評估完成\n",
            "2022-05-18 14:28:50,863 : INFO : Pearson correlation coefficient against zh_tw_ws353_similarity.txt: 0.6523\n",
            "2022-05-18 14:28:50,863 : INFO : Spearman rank-order correlation coefficient against zh_tw_ws353_similarity.txt: 0.6430\n",
            "2022-05-18 14:28:50,864 : INFO : Pairs with unknown words ratio: 10.8%\n",
            "ws353-similarity評估完成\n",
            "2022-05-18 14:28:51,899 : INFO : Skipping invalid line #283 in zh_tw_SimLex-999.txt\n",
            "2022-05-18 14:28:51,920 : INFO : Pearson correlation coefficient against zh_tw_SimLex-999.txt: 0.3201\n",
            "2022-05-18 14:28:51,920 : INFO : Spearman rank-order correlation coefficient against zh_tw_SimLex-999.txt: 0.3360\n",
            "2022-05-18 14:28:51,920 : INFO : Pairs with unknown words ratio: 7.4%\n",
            "simlex-999評估完成\n",
            "2022-05-18 14:28:53,024 : INFO : Pearson correlation coefficient against zh_tw_bruni_men.txt: 0.5720\n",
            "2022-05-18 14:28:53,024 : INFO : Spearman rank-order correlation coefficient against zh_tw_bruni_men.txt: 0.5909\n",
            "2022-05-18 14:28:53,024 : INFO : Pairs with unknown words ratio: 16.8%\n",
            "MEN評估完成\n",
            "2022-05-18 14:28:54,065 : INFO : Pearson correlation coefficient against zh_tw_radinsky_mturk.txt: 0.5739\n",
            "2022-05-18 14:28:54,065 : INFO : Spearman rank-order correlation coefficient against zh_tw_radinsky_mturk.txt: 0.5654\n",
            "2022-05-18 14:28:54,065 : INFO : Pairs with unknown words ratio: 26.5%\n",
            "Mturk評估完成\n",
            "2022-05-18 14:28:55,141 : INFO : Evaluating word analogies for top 300000 words in the model on zh_tw_google.txt\n",
            "2022-05-18 14:28:55,480 : INFO : precomputing L2-norms of word weight vectors\n",
            "tcmalloc: large alloc 1838710784 bytes == 0xe56f2000 @  0x7fefd3de31e7 0x7fefd06000ce 0x7fefd0656cf5 0x7fefd0656e08 0x7fefd08a0a50 0x7fefd08a0e10 0x59588e 0x595b69 0x7fefd071f0bf 0x7fefd071f78a 0x4d0a4b 0x512e1a 0x549576 0x593fce 0x511e2c 0x549e0e 0x593fce 0x548ae9 0x5127f1 0x549e0e 0x593fce 0x511e2c 0x549576 0x604173 0x5f5506 0x5f8c6c 0x5f9206 0x64faf2 0x64fc4e 0x7fefd39e0c87 0x5b621a\n",
            "tcmalloc: large alloc 1838710784 bytes == 0xe56f2000 @  0x7fefd3de31e7 0x7fefd06000ce 0x7fefd0656cf5 0x7fefd0656e08 0x7fefd07160f4 0x7fefd071930c 0x7fefd08a03ac 0x7fefd08a0e10 0x59588e 0x595b69 0x7fefd07208a3 0x4d106f 0x5132c4 0x549576 0x593fce 0x511e2c 0x549e0e 0x593fce 0x548ae9 0x5127f1 0x549e0e 0x593fce 0x511e2c 0x549576 0x604173 0x5f5506 0x5f8c6c 0x5f9206 0x64faf2 0x64fc4e 0x7fefd39e0c87\n",
            "tcmalloc: large alloc 1838710784 bytes == 0x15307a000 @  0x7fefd3de31e7 0x7fefd06000ce 0x7fefd065a726 0x7fefd06ef841 0x59b076 0x515655 0x549576 0x593fce 0x511e2c 0x549e0e 0x593fce 0x548ae9 0x5127f1 0x549e0e 0x593fce 0x511e2c 0x549576 0x604173 0x5f5506 0x5f8c6c 0x5f9206 0x64faf2 0x64fc4e 0x7fefd39e0c87 0x5b621a\n",
            "2022-05-18 14:30:48,230 : INFO : capital-common-countries: 41.9% (1025/2447)\n",
            "2022-05-18 14:30:48,230 : INFO : Quadruplets with out-of-vocabulary words: 78.0%\n",
            "2022-05-18 14:30:48,230 : INFO : NB: analogies containing OOV words were skipped from evaluation! To change this behavior, use \"dummy4unknown=True\"\n",
            "2022-05-18 14:30:48,231 : INFO : Total accuracy: 41.9% (1025/2447)\n",
            "CKIP詞類比評估完成\n",
            "2022-05-18 14:30:49,318 : INFO : Evaluating word analogies for top 300000 words in the model on analog.txt\n",
            "2022-05-18 14:31:03,826 : INFO : capital-common-countries: 44.8% (142/317)\n",
            "2022-05-18 14:31:09,579 : INFO : city-in-state: 53.4% (70/131)\n",
            "2022-05-18 14:31:21,673 : INFO : family: 51.8% (141/272)\n",
            "2022-05-18 14:31:21,673 : INFO : Quadruplets with out-of-vocabulary words: 35.9%\n",
            "2022-05-18 14:31:21,673 : INFO : NB: analogies containing OOV words were skipped from evaluation! To change this behavior, use \"dummy4unknown=True\"\n",
            "2022-05-18 14:31:21,673 : INFO : Total accuracy: 49.0% (353/720)\n",
            "模型評估完成\n"
          ]
        }
      ]
    }
  ]
}