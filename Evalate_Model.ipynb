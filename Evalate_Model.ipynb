{
  "nbformat": 4,
  "nbformat_minor": 0,
  "metadata": {
    "colab": {
      "name": "Evalate_Model",
      "provenance": []
    },
    "kernelspec": {
      "name": "python3",
      "display_name": "Python 3"
    },
    "language_info": {
      "name": "python"
    }
  },
  "cells": [
    {
      "cell_type": "code",
      "execution_count": 20,
      "metadata": {
        "colab": {
          "base_uri": "https://localhost:8080/"
        },
        "id": "W8vWE7eqo_5Y",
        "outputId": "41a29e0d-df05-4501-d1d8-6dd106b7b6a4"
      },
      "outputs": [
        {
          "output_type": "stream",
          "name": "stdout",
          "text": [
            "Drive already mounted at /content/drive; to attempt to forcibly remount, call drive.mount(\"/content/drive\", force_remount=True).\n"
          ]
        }
      ],
      "source": [
        "from google.colab import drive\n",
        "drive.mount(\"/content/drive\")"
      ]
    },
    {
      "cell_type": "code",
      "source": [
        "import os\n",
        "path=\"/content/drive/MyDrive/src\"\n",
        "os.chdir(path)\n",
        "os.listdir(path)"
      ],
      "metadata": {
        "colab": {
          "base_uri": "https://localhost:8080/"
        },
        "id": "y-FtdG8jpGga",
        "outputId": "f257205d-ecc6-43e6-8981-029ca5c0775a"
      },
      "execution_count": 21,
      "outputs": [
        {
          "output_type": "execute_result",
          "data": {
            "text/plain": [
              "['word_analogy.py',\n",
              " 'word_sim.py',\n",
              " 'LICENSE',\n",
              " 'makefile',\n",
              " 'cwe.c',\n",
              " 'transfer.py',\n",
              " 'chat.txt',\n",
              " 'test.py',\n",
              " 'README.md',\n",
              " 'cwe',\n",
              " 'word_vec',\n",
              " 'char.txt',\n",
              " 'commend.txt',\n",
              " 'data',\n",
              " '__pycache__']"
            ]
          },
          "metadata": {},
          "execution_count": 21
        }
      ]
    },
    {
      "cell_type": "markdown",
      "source": [
        "# **Word Similarity**"
      ],
      "metadata": {
        "id": "uPltiKX4pWUL"
      }
    },
    {
      "cell_type": "code",
      "source": [
        "!python word_sim.py -s ./data/trd-wordsim-240.txt -e word_vec"
      ],
      "metadata": {
        "colab": {
          "base_uri": "https://localhost:8080/"
        },
        "id": "LbHPpRP6pHP1",
        "outputId": "2fb53c26-5109-4389-faad-6ffa958a36b9"
      },
      "execution_count": 22,
      "outputs": [
        {
          "output_type": "stream",
          "name": "stdout",
          "text": [
            "227  word pairs appered in the training dictionary , total word pairs  240\n",
            "SpearmanrResult(correlation=0.5149257855159218, pvalue=9.034823873790168e-17)\n"
          ]
        }
      ]
    },
    {
      "cell_type": "code",
      "source": [
        "!python word_sim.py -s ./data/trd-wordsim-297.txt -e word_vec"
      ],
      "metadata": {
        "colab": {
          "base_uri": "https://localhost:8080/"
        },
        "id": "IQhz51CzpN3k",
        "outputId": "2d57cf05-051e-4c81-ca9d-cd20cef12376"
      },
      "execution_count": 23,
      "outputs": [
        {
          "output_type": "stream",
          "name": "stdout",
          "text": [
            "279  word pairs appered in the training dictionary , total word pairs  297\n",
            "SpearmanrResult(correlation=0.5882383656762065, pvalue=2.3074752903971965e-27)\n"
          ]
        }
      ]
    },
    {
      "cell_type": "code",
      "source": [
        "!python word_sim.py -s ./data/zh_tw_ws353.txt -e word_vec"
      ],
      "metadata": {
        "colab": {
          "base_uri": "https://localhost:8080/"
        },
        "id": "-Cd3w0iOpN1S",
        "outputId": "1796f1bc-fdd1-44b5-e19e-422c6f990b81"
      },
      "execution_count": 24,
      "outputs": [
        {
          "output_type": "stream",
          "name": "stdout",
          "text": [
            "323  word pairs appered in the training dictionary , total word pairs  353\n",
            "SpearmanrResult(correlation=0.6036710282717125, pvalue=1.880168291861483e-33)\n"
          ]
        }
      ]
    },
    {
      "cell_type": "code",
      "source": [
        "!python word_sim.py -s ./data/zh_tw_ws353_relatedness.txt -e word_vec"
      ],
      "metadata": {
        "colab": {
          "base_uri": "https://localhost:8080/"
        },
        "id": "QVSPX_DrpNzS",
        "outputId": "5441b507-abe7-40e4-9717-7c48f16159fc"
      },
      "execution_count": 25,
      "outputs": [
        {
          "output_type": "stream",
          "name": "stdout",
          "text": [
            "233  word pairs appered in the training dictionary , total word pairs  252\n",
            "SpearmanrResult(correlation=0.5141190666952073, pvalue=4.0386793046276716e-17)\n"
          ]
        }
      ]
    },
    {
      "cell_type": "code",
      "source": [
        "!python word_sim.py -s ./data/zh_tw_ws353_similarity.txt -e word_vec"
      ],
      "metadata": {
        "colab": {
          "base_uri": "https://localhost:8080/"
        },
        "id": "eLA5RRrOpNxV",
        "outputId": "884ce2c8-aec9-46c9-92da-62df18182087"
      },
      "execution_count": 26,
      "outputs": [
        {
          "output_type": "stream",
          "name": "stdout",
          "text": [
            "184  word pairs appered in the training dictionary , total word pairs  203\n",
            "SpearmanrResult(correlation=0.6931814137832761, pvalue=1.1122292594472995e-27)\n"
          ]
        }
      ]
    },
    {
      "cell_type": "code",
      "source": [
        "!python word_sim.py -s ./data/zh_tw_SimLex-999.txt -e word_vec"
      ],
      "metadata": {
        "colab": {
          "base_uri": "https://localhost:8080/"
        },
        "id": "BJ9rCDicpNvK",
        "outputId": "caa3d343-edd4-406c-a226-4f9dba4ffb0a"
      },
      "execution_count": 27,
      "outputs": [
        {
          "output_type": "stream",
          "name": "stdout",
          "text": [
            "942  word pairs appered in the training dictionary , total word pairs  999\n",
            "SpearmanrResult(correlation=0.33957981500956724, pvalue=7.441312683709038e-27)\n"
          ]
        }
      ]
    },
    {
      "cell_type": "code",
      "source": [
        "!python word_sim.py -s ./data/zh_tw_bruni_men.txt -e word_vec"
      ],
      "metadata": {
        "colab": {
          "base_uri": "https://localhost:8080/"
        },
        "id": "e_4T3KURpNsi",
        "outputId": "25e14e3b-b474-4c01-a8ed-2ddf03e7573f"
      },
      "execution_count": 28,
      "outputs": [
        {
          "output_type": "stream",
          "name": "stdout",
          "text": [
            "2888  word pairs appered in the training dictionary , total word pairs  3000\n",
            "SpearmanrResult(correlation=0.6964471625245993, pvalue=0.0)\n"
          ]
        }
      ]
    },
    {
      "cell_type": "code",
      "source": [
        "!python word_sim.py -s ./data/zh_tw_radinsky_mturk.txt -e word_vec"
      ],
      "metadata": {
        "colab": {
          "base_uri": "https://localhost:8080/"
        },
        "id": "X9bWhrK_pNhC",
        "outputId": "3ed2b534-10c3-41b2-99ad-e19e42a8d097"
      },
      "execution_count": 29,
      "outputs": [
        {
          "output_type": "stream",
          "name": "stdout",
          "text": [
            "242  word pairs appered in the training dictionary , total word pairs  287\n",
            "SpearmanrResult(correlation=0.58261848857719, pvalue=2.1463746741082123e-23)\n"
          ]
        }
      ]
    },
    {
      "cell_type": "markdown",
      "source": [
        "# **Word Analogy**"
      ],
      "metadata": {
        "id": "h977qBdlpV_y"
      }
    },
    {
      "cell_type": "code",
      "source": [
        "!python word_analogy.py -a ./data/zh_tw_google.txt -e word_vec"
      ],
      "metadata": {
        "colab": {
          "base_uri": "https://localhost:8080/"
        },
        "id": "QsOgFhBBpkWz",
        "outputId": "7ffa3856-f4ff-4636-9d0b-77d313fc7c04"
      },
      "execution_count": 30,
      "outputs": [
        {
          "output_type": "stream",
          "name": "stdout",
          "text": [
            "11126 0 0\n",
            "dictionary_lengh  861098\n",
            "dictionary_lengh  861098\n",
            "dictionary_lengh  861098\n",
            "capital total  11126  in dict  6887  correct  2257\n",
            "state total  0  in dict  0  correct  0\n",
            "family total  0  in dict  0  correct  0\n",
            " total  11126  indict  6887  correct  2257\n"
          ]
        }
      ]
    },
    {
      "cell_type": "code",
      "source": [
        "!python word_analogy.py -a ./data/analog.txt -e word_vec"
      ],
      "metadata": {
        "colab": {
          "base_uri": "https://localhost:8080/"
        },
        "id": "O9OdxHD_pkMu",
        "outputId": "596acc60-c872-485b-bb66-757c94525253"
      },
      "execution_count": 31,
      "outputs": [
        {
          "output_type": "stream",
          "name": "stdout",
          "text": [
            "677 175 272\n",
            "dictionary_lengh  861098\n",
            "dictionary_lengh  861098\n",
            "dictionary_lengh  861098\n",
            "capital total  677  in dict  677  correct  490\n",
            "state total  175  in dict  175  correct  132\n",
            "family total  272  in dict  272  correct  183\n",
            " total  1124  indict  1124  correct  805\n"
          ]
        }
      ]
    }
  ]
}